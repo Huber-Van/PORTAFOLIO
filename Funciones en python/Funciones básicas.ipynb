{
 "cells": [
  {
   "cell_type": "markdown",
   "id": "c4748056",
   "metadata": {},
   "source": [
    "**Función:** Son un conjunto de instrucciones que se realizan mediante unas lineas de código para realizar tareas expecificas ayudando al programador en la lectura y comprension del código."
   ]
  },
  {
   "cell_type": "markdown",
   "id": "3434c6d8",
   "metadata": {},
   "source": [
    "- def: palabra clave\n",
    "- Nombre de la función:\n",
    "- (): incluye parametros de entrada\n",
    "- Bloque de codigo:\n",
    "- Sentencia de retorno:"
   ]
  },
  {
   "cell_type": "code",
   "execution_count": 4,
   "id": "f8a790bc",
   "metadata": {},
   "outputs": [
    {
     "name": "stdout",
     "output_type": "stream",
     "text": [
      "hola mundo\n"
     ]
    }
   ],
   "source": [
    "# funcion print\n",
    "def imprimir():\n",
    "    print('hola mundo')\n",
    "    \n",
    "imprimir()"
   ]
  },
  {
   "cell_type": "code",
   "execution_count": 6,
   "id": "4e121a77",
   "metadata": {},
   "outputs": [
    {
     "name": "stdout",
     "output_type": "stream",
     "text": [
      "hola mundo\n",
      "hola mundo\n",
      "hola mundo\n",
      "\n"
     ]
    }
   ],
   "source": [
    "def imprime():\n",
    "    print('hola mundo\\n'*3)\n",
    "imprime()"
   ]
  },
  {
   "cell_type": "code",
   "execution_count": 11,
   "id": "25a2dd5d",
   "metadata": {},
   "outputs": [
    {
     "name": "stdout",
     "output_type": "stream",
     "text": [
      "hola mundo\n",
      "hola mundo\n",
      "hola mundo\n",
      "hola mundo\n",
      "\n"
     ]
    }
   ],
   "source": [
    "def imprimirr(a):\n",
    "    print(a*4)\n",
    "    \n",
    "a= 'hola mundo\\n'\n",
    "imprimirr(a)"
   ]
  },
  {
   "cell_type": "code",
   "execution_count": 15,
   "id": "d76a3e6d",
   "metadata": {},
   "outputs": [
    {
     "data": {
      "text/plain": [
       "36"
      ]
     },
     "execution_count": 15,
     "metadata": {},
     "output_type": "execute_result"
    }
   ],
   "source": [
    "# operaciones sencillas\n",
    "def area_cuadrado(lado):\n",
    "    area=lado*lado\n",
    "    return(area)\n",
    "area_cuadrado(6)\n"
   ]
  },
  {
   "cell_type": "code",
   "execution_count": 16,
   "id": "1bf2a8e7",
   "metadata": {},
   "outputs": [
    {
     "name": "stdout",
     "output_type": "stream",
     "text": [
      "3.141592653589793\n"
     ]
    }
   ],
   "source": [
    "# area de un circulo\n",
    "import math\n",
    "pi=math.pi\n",
    "print(pi)"
   ]
  },
  {
   "cell_type": "code",
   "execution_count": 17,
   "id": "59ca91ab",
   "metadata": {},
   "outputs": [
    {
     "data": {
      "text/plain": [
       "18.84955592153876"
      ]
     },
     "execution_count": 17,
     "metadata": {},
     "output_type": "execute_result"
    }
   ],
   "source": [
    "def area_circulo(radio):\n",
    "    area=2*pi*radio\n",
    "    return(area)\n",
    "area_circulo(3)"
   ]
  },
  {
   "cell_type": "markdown",
   "id": "b36fef00",
   "metadata": {},
   "source": [
    "**Función input:** Se obtiene texto escito por teclado"
   ]
  },
  {
   "cell_type": "code",
   "execution_count": 7,
   "id": "e42da13b",
   "metadata": {},
   "outputs": [
    {
     "name": "stdout",
     "output_type": "stream",
     "text": [
      "Ingresa tu nombre\n",
      "TATIANA\n",
      "tu nombre es: TATIANA\n",
      "Bienvenido TATIANA\n"
     ]
    }
   ],
   "source": [
    "# ingreso por teclado\n",
    "\n",
    "print('Ingresa tu nombre')\n",
    "nombre=input()\n",
    "print(f'tu nombre es: {nombre}')\n",
    "print('Bienvenido', nombre)\n",
    "\n",
    "\n",
    "\n"
   ]
  },
  {
   "cell_type": "code",
   "execution_count": 8,
   "id": "b4ef4539",
   "metadata": {},
   "outputs": [
    {
     "name": "stdout",
     "output_type": "stream",
     "text": [
      "Ingresa tu nombre: Felix\n",
      "Mucho gusto: Felix\n"
     ]
    }
   ],
   "source": [
    "# Ingreso por teclado en una sola linea\n",
    "\n",
    "nom=input('Ingresa tu nombre: ')\n",
    "print(f'Mucho gusto: {nom}')"
   ]
  },
  {
   "cell_type": "markdown",
   "id": "a94d205e",
   "metadata": {},
   "source": [
    "**EJEMPLOS**"
   ]
  },
  {
   "cell_type": "markdown",
   "id": "77470558",
   "metadata": {},
   "source": [
    "- Hacer un programa que utilice una funcion que Calcule el Importe Total de un producto (precio +IGV),se ingresa por teclado precio y nombre del producto."
   ]
  },
  {
   "cell_type": "code",
   "execution_count": 16,
   "id": "ed97db22",
   "metadata": {},
   "outputs": [
    {
     "name": "stdout",
     "output_type": "stream",
     "text": [
      "Ingrese el nombre del producto: viagra\n",
      "Ingrese el Precio del Producto: 3\n",
      "el precio de viagra es 3.54\n"
     ]
    }
   ],
   "source": [
    "# Creamos la funcion\n",
    "\n",
    "def calculando(precio):\n",
    "    igv=precio*0.18\n",
    "    importe=precio+igv\n",
    "    return(importe)\n",
    "producto=input('Ingrese el nombre del producto: ')\n",
    "precio = float(input(\"Ingrese el Precio del Producto: \"))\n",
    "print(f'el precio de {producto} es {calculando(precio)}')"
   ]
  },
  {
   "cell_type": "code",
   "execution_count": null,
   "id": "760e3309",
   "metadata": {},
   "outputs": [],
   "source": []
  },
  {
   "cell_type": "code",
   "execution_count": null,
   "id": "ab0b27ec",
   "metadata": {},
   "outputs": [],
   "source": []
  },
  {
   "cell_type": "code",
   "execution_count": null,
   "id": "5d890281",
   "metadata": {},
   "outputs": [],
   "source": []
  },
  {
   "cell_type": "code",
   "execution_count": null,
   "id": "87b31e47",
   "metadata": {},
   "outputs": [],
   "source": []
  },
  {
   "cell_type": "code",
   "execution_count": null,
   "id": "a450bf10",
   "metadata": {},
   "outputs": [],
   "source": []
  },
  {
   "cell_type": "code",
   "execution_count": null,
   "id": "d6426387",
   "metadata": {},
   "outputs": [],
   "source": []
  },
  {
   "cell_type": "code",
   "execution_count": null,
   "id": "29237dd8",
   "metadata": {},
   "outputs": [],
   "source": []
  },
  {
   "cell_type": "code",
   "execution_count": null,
   "id": "2e3b0e01",
   "metadata": {},
   "outputs": [],
   "source": []
  }
 ],
 "metadata": {
  "kernelspec": {
   "display_name": "Python 3 (ipykernel)",
   "language": "python",
   "name": "python3"
  },
  "language_info": {
   "codemirror_mode": {
    "name": "ipython",
    "version": 3
   },
   "file_extension": ".py",
   "mimetype": "text/x-python",
   "name": "python",
   "nbconvert_exporter": "python",
   "pygments_lexer": "ipython3",
   "version": "3.9.16"
  }
 },
 "nbformat": 4,
 "nbformat_minor": 5
}
