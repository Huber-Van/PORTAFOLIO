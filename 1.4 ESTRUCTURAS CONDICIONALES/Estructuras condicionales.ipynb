{
 "cells": [
  {
   "cell_type": "markdown",
   "id": "05f68239",
   "metadata": {},
   "source": [
    "**Estructuras condicionales:** Ejecutan instrucciones siempre y cuando se cumpla una condicion que puede ser verdadero o falso."
   ]
  },
  {
   "cell_type": "markdown",
   "id": "b46ee020",
   "metadata": {},
   "source": [
    "**Partes:**\n",
    "- una prueba que evalua si es verdadero o falso\n",
    "- un bloque de codigo que se ejecuta si la prueba es verdadera\n",
    "- un bloque de codigo que se ejecuta si la prueba es falsa"
   ]
  },
  {
   "cell_type": "code",
   "execution_count": 1,
   "id": "c19b73ed",
   "metadata": {},
   "outputs": [
    {
     "data": {
      "text/plain": [
       "False"
      ]
     },
     "execution_count": 1,
     "metadata": {},
     "output_type": "execute_result"
    }
   ],
   "source": [
    "x ='facebook'\n",
    "# preguntamos si i esta en x\n",
    "'i'in x"
   ]
  },
  {
   "cell_type": "code",
   "execution_count": 3,
   "id": "8c05ac2d",
   "metadata": {},
   "outputs": [
    {
     "name": "stdout",
     "output_type": "stream",
     "text": [
      "False\n"
     ]
    }
   ],
   "source": [
    "# otra forma\n",
    "print('o'not in x)"
   ]
  },
  {
   "cell_type": "code",
   "execution_count": 4,
   "id": "cbacf128",
   "metadata": {},
   "outputs": [
    {
     "name": "stdout",
     "output_type": "stream",
     "text": [
      "True\n"
     ]
    }
   ],
   "source": [
    "lista=['esmeralda', 'rubi', 'perla', 'gema']\n",
    "print('esmeralda' in lista)"
   ]
  },
  {
   "cell_type": "code",
   "execution_count": 8,
   "id": "ebfaf108",
   "metadata": {},
   "outputs": [
    {
     "name": "stdout",
     "output_type": "stream",
     "text": [
      "7 < 9 = True\n"
     ]
    }
   ],
   "source": [
    "# otros condiciones\n",
    "\n",
    "print('7 < 9 =',7<9)"
   ]
  },
  {
   "cell_type": "code",
   "execution_count": 9,
   "id": "8f945ea3",
   "metadata": {},
   "outputs": [
    {
     "name": "stdout",
     "output_type": "stream",
     "text": [
      "2 > 8 = False\n"
     ]
    }
   ],
   "source": [
    "print('2 > 8 =', 2>8)"
   ]
  },
  {
   "cell_type": "code",
   "execution_count": 11,
   "id": "fd9801d8",
   "metadata": {},
   "outputs": [
    {
     "name": "stdout",
     "output_type": "stream",
     "text": [
      "3 = 6 =  False\n"
     ]
    }
   ],
   "source": [
    "print('3 = 6 = ', 3==6)"
   ]
  },
  {
   "cell_type": "code",
   "execution_count": 12,
   "id": "6a4abd30",
   "metadata": {},
   "outputs": [
    {
     "name": "stdout",
     "output_type": "stream",
     "text": [
      "python != java =  True\n"
     ]
    }
   ],
   "source": [
    "# para colocar diferente !=\n",
    "print('python != java = ','python' != 'java')"
   ]
  },
  {
   "cell_type": "markdown",
   "id": "4cb5e30e",
   "metadata": {},
   "source": [
    "**if condiciones simples**"
   ]
  },
  {
   "cell_type": "code",
   "execution_count": 17,
   "id": "c47afccb",
   "metadata": {},
   "outputs": [
    {
     "name": "stdout",
     "output_type": "stream",
     "text": [
      "el numero 10 es valido\n",
      "si lo elevamos al cuadrado es = 100\n"
     ]
    }
   ],
   "source": [
    "# condicion simple\n",
    "x=10\n",
    "if x>0:\n",
    "    print(f'el numero {x} es valido')\n",
    "    print(f'si lo elevamos al cuadrado es = {x**2}')"
   ]
  },
  {
   "cell_type": "markdown",
   "id": "a09604c0",
   "metadata": {},
   "source": [
    "**comando if else condicional**"
   ]
  },
  {
   "cell_type": "code",
   "execution_count": 20,
   "id": "51541dd7",
   "metadata": {},
   "outputs": [
    {
     "name": "stdout",
     "output_type": "stream",
     "text": [
      "el numero 30 es mayor que 20\n"
     ]
    }
   ],
   "source": [
    "n=30\n",
    "m=20\n",
    "if n>m:\n",
    "    print(f'el numero {n} es mayor que {m}')\n",
    "else:\n",
    "    print(f'el numero {n} es menor que {m}')"
   ]
  },
  {
   "cell_type": "markdown",
   "id": "93b49f05",
   "metadata": {},
   "source": [
    "**comando if-else condicional anidado**"
   ]
  },
  {
   "cell_type": "code",
   "execution_count": 25,
   "id": "6341efc0",
   "metadata": {},
   "outputs": [
    {
     "name": "stdout",
     "output_type": "stream",
     "text": [
      "Ingrese un primer numero: 20\n",
      "Ingrese un segundo numero:10\n",
      "Ingrese un tercer numero:-5\n",
      "el mayor numero es 20\n"
     ]
    }
   ],
   "source": [
    "# hacemos un condicional anidado con entrada por teclado para determinar el mayor numero\n",
    "\n",
    "a= int(input('Ingrese un primer numero: '))\n",
    "b= int(input('Ingrese un segundo numero:'))\n",
    "c= int(input('Ingrese un tercer numero:'))\n",
    "\n",
    "# creamos el bucle\n",
    "\n",
    "if a>b:\n",
    "    if a>c:\n",
    "        m=a\n",
    "    else:\n",
    "        m=c\n",
    "else:\n",
    "    if b>c:\n",
    "        m=b\n",
    "    else:\n",
    "        m=c\n",
    "        \n",
    "print(f'el mayor numero es {m}')\n"
   ]
  },
  {
   "cell_type": "code",
   "execution_count": 4,
   "id": "fcbb3126",
   "metadata": {},
   "outputs": [
    {
     "name": "stdout",
     "output_type": "stream",
     "text": [
      "Ingrese el primer numero: -2\n",
      "Ingrese el segundo numero: 4\n",
      "Ingrese el tercer numero: -100\n",
      "el mayor es 4\n"
     ]
    }
   ],
   "source": [
    "# otra forma\n",
    "x=int(input('Ingrese el primer numero: '))\n",
    "y=int(input('Ingrese el segundo numero: '))\n",
    "z=int(input('Ingrese el tercer numero: '))\n",
    "\n",
    "if x>y:\n",
    "    if x>z:\n",
    "        print(f'el mayor es {x}')\n",
    "\n",
    "if y>x:\n",
    "    if y>z:\n",
    "        print(f'el mayor es {y}')\n",
    " \n",
    "if z>x:\n",
    "    if z>y:\n",
    "        print(f'el mayor es {z}')\n"
   ]
  },
  {
   "cell_type": "markdown",
   "id": "e78af851",
   "metadata": {},
   "source": [
    "**Comando if-elif-else condicional encadenado**"
   ]
  },
  {
   "cell_type": "code",
   "execution_count": 3,
   "id": "bff6738a",
   "metadata": {},
   "outputs": [
    {
     "name": "stdout",
     "output_type": "stream",
     "text": [
      "ingrese su nombre: jknt\n",
      "Su nombre no contiene vocales\n"
     ]
    }
   ],
   "source": [
    "# hacemos un programa que avisa al escritor una de las vocales que contiene su nombre\n",
    "\n",
    "nombre=str(input('ingrese su nombre: '))\n",
    "if 'a' in nombre:\n",
    "    print('Su nombre contiene la vocal a')\n",
    "elif 'e' in nombre:\n",
    "    print('Su nombre contiene la vocal e')\n",
    "elif 'i' in nombre:\n",
    "    print('Su nombre contiene la vocal i')\n",
    "elif 'o' in nombre:\n",
    "    print('Su nombre contiene la vocal o')\n",
    "elif 'u' in nombre:\n",
    "    print('Su nombre contiene la vocal u')\n",
    "else:\n",
    "    print('Su nombre no contiene vocales')\n",
    "          "
   ]
  },
  {
   "cell_type": "markdown",
   "id": "985fb992",
   "metadata": {},
   "source": [
    "**Ejemplos**"
   ]
  },
  {
   "cell_type": "markdown",
   "id": "57228664",
   "metadata": {},
   "source": [
    "**Hacer un programa que determine si un numero ingresado por pantalla es positivo o negativo**"
   ]
  },
  {
   "cell_type": "code",
   "execution_count": 7,
   "id": "9335aa61",
   "metadata": {},
   "outputs": [
    {
     "name": "stdout",
     "output_type": "stream",
     "text": [
      "Ingrese el número, por favor: 0\n",
      "El número es neutro\n"
     ]
    }
   ],
   "source": [
    "m=int(input('Ingrese el número, por favor: '))\n",
    "\n",
    "if m>0:\n",
    "    print('El número es postivo')\n",
    "elif m<0:\n",
    "    print('El número es negativo')\n",
    "elif m==0:\n",
    "    print('El número es neutro')"
   ]
  },
  {
   "cell_type": "code",
   "execution_count": 14,
   "id": "69da9e23",
   "metadata": {},
   "outputs": [
    {
     "name": "stdout",
     "output_type": "stream",
     "text": [
      "Ingrese el número: -6\n",
      "El número ingresado es: -6\n",
      "Su número es: NEGATIVO\n"
     ]
    }
   ],
   "source": [
    "# Otro método\n",
    "m=int(input('Ingrese el número: '))\n",
    "if m>0:\n",
    "    p='positivo'\n",
    "else:\n",
    "    if m<0:\n",
    "        p='negativo'\n",
    "    else:\n",
    "        if m==0:\n",
    "            p='neutro'\n",
    "            \n",
    "print(f'El número ingresado es: {m}')\n",
    "print(f'Su número es: {p.upper()}')"
   ]
  },
  {
   "cell_type": "markdown",
   "id": "8ab708cb",
   "metadata": {},
   "source": [
    "**Hacer un programa que pueda ingresar radio del circulo y calcule: Perimetro, Area y dimetro**"
   ]
  },
  {
   "cell_type": "code",
   "execution_count": 19,
   "id": "35f0e0bd",
   "metadata": {},
   "outputs": [
    {
     "name": "stdout",
     "output_type": "stream",
     "text": [
      "Ingrese radio del circulo: 3\n",
      "Seleccione una de las opciones\n",
      "a) Diametro: \n",
      "b) Perímetro: \n",
      "c) Área: \n",
      "Ingrese una de las opciones: m\n",
      "No ha ingresado la opcion correcta\n"
     ]
    }
   ],
   "source": [
    "# importamos el valor pi\n",
    "\n",
    "from math import pi\n",
    "\n",
    "#iniciamos\n",
    "radio=float(input('Ingrese radio del circulo: '))\n",
    "#menu\n",
    "print('Seleccione una de las opciones')\n",
    "print('a) Diametro: ')\n",
    "print('b) Perímetro: ')\n",
    "print('c) Área: ')\n",
    "# creamos la opcion\n",
    "opcion= input('Ingrese una de las opciones: ')\n",
    "# creando las operaciones\n",
    "\n",
    "if opcion =='a':\n",
    "    diametro =2*radio\n",
    "    print(f'El diametro del circulo es: {diametro}')\n",
    "elif opcion =='b':\n",
    "    perimetro =2*pi*radio\n",
    "    print(f'El perimetro del circulo es: {perimetro}')\n",
    "elif opcion =='c':\n",
    "    area = pi*radio**2\n",
    "    print(f'El area del circulo es: {area}')\n",
    "else:\n",
    "    print('No ha ingresado la opcion correcta')"
   ]
  },
  {
   "cell_type": "code",
   "execution_count": 23,
   "id": "ad7020a9",
   "metadata": {},
   "outputs": [
    {
     "name": "stdout",
     "output_type": "stream",
     "text": [
      "Ingrese el radio del circulo40\n",
      "Seleccione una opcion\n",
      "a) Diametro\n",
      "b) Perímetro\n",
      "c) Area\n",
      "c\n",
      "5026.548245743669\n"
     ]
    }
   ],
   "source": [
    "# Otra forma\n",
    "radio=int(input('Ingrese el radio del circulo'))\n",
    "#menu\n",
    "print('Seleccione una opcion')\n",
    "print('a) Diametro')\n",
    "print('b) Perímetro')\n",
    "print('c) Area')\n",
    "# codigo\n",
    "opcion=input()\n",
    "\n",
    "if opcion=='a':\n",
    "    diametro=2*radio\n",
    "    print(diametro)\n",
    "else:\n",
    "    if opcion=='b':\n",
    "        perimetro=2*pi*radio\n",
    "        print(perimetro)\n",
    "    else:\n",
    "        if opcion=='c':\n",
    "            area=pi*radio**2\n",
    "            print(area)\n",
    "        else:\n",
    "            print('Ingrese las opciones adecuadas, por favor')\n"
   ]
  },
  {
   "cell_type": "markdown",
   "id": "c8100e89",
   "metadata": {},
   "source": [
    "**Hacer un programa que verifique en una jugueria si tienen la fruta que deseas y te prepare un jugo**"
   ]
  },
  {
   "cell_type": "code",
   "execution_count": 26,
   "id": "779ddf59",
   "metadata": {},
   "outputs": [
    {
     "name": "stdout",
     "output_type": "stream",
     "text": [
      "Ingrese la fruta que desea comer hoypapaya\n",
      "Si tenemos la fruta, te preparamos un jugo de papaya\n"
     ]
    }
   ],
   "source": [
    "frutas=['chirimoya', 'papaya','platano','manzana', 'uva', 'mango', 'fresa', 'higo']\n",
    "fruta=input('Ingrese la fruta que desea comer hoy')\n",
    "\n",
    "if fruta in frutas:\n",
    "    print(f'Si tenemos la fruta, te preparamos un jugo de {fruta}')\n",
    "else:\n",
    "    print('No tenemos esta fruta, lo sentimos')"
   ]
  },
  {
   "cell_type": "markdown",
   "id": "f279800e",
   "metadata": {},
   "source": [
    "**Hacer un programa que verifique mayoria de edad**"
   ]
  },
  {
   "cell_type": "code",
   "execution_count": 27,
   "id": "2da735da",
   "metadata": {},
   "outputs": [
    {
     "name": "stdout",
     "output_type": "stream",
     "text": [
      "Ingrese su edad: 12\n",
      "Usted es menor de edad con 12 años\n"
     ]
    }
   ],
   "source": [
    "#Iniciando\n",
    "edad=int(input('Ingrese su edad: '))\n",
    "\n",
    "if edad>=18:\n",
    "    print(f'Usted es mayor de edad con {edad} años')\n",
    "else:\n",
    "    print(f'Usted es menor de edad con {edad} años')\n"
   ]
  },
  {
   "cell_type": "code",
   "execution_count": null,
   "id": "11ec1bff",
   "metadata": {},
   "outputs": [],
   "source": []
  },
  {
   "cell_type": "code",
   "execution_count": null,
   "id": "682cee32",
   "metadata": {},
   "outputs": [],
   "source": []
  }
 ],
 "metadata": {
  "kernelspec": {
   "display_name": "Python 3 (ipykernel)",
   "language": "python",
   "name": "python3"
  },
  "language_info": {
   "codemirror_mode": {
    "name": "ipython",
    "version": 3
   },
   "file_extension": ".py",
   "mimetype": "text/x-python",
   "name": "python",
   "nbconvert_exporter": "python",
   "pygments_lexer": "ipython3",
   "version": "3.9.16"
  }
 },
 "nbformat": 4,
 "nbformat_minor": 5
}
