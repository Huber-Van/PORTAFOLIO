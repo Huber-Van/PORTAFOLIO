{
 "cells": [
  {
   "cell_type": "markdown",
   "id": "da4756d9",
   "metadata": {},
   "source": [
    "**Listas:** Son un tipo de dato que guardan colecciones de información."
   ]
  },
  {
   "cell_type": "markdown",
   "id": "ac6e19dc",
   "metadata": {},
   "source": [
    "**Caracteristicas**\n",
    "- Ordenada: Sus elementos estan indexados.\n",
    "- Editable: pueden eliminarse, cambiarse o añadirse mas elementos.\n",
    "- Dinámico: contienen diferentes tipos de datos, hasta objetos.\n",
    "- No única: puede contener elementos duplicados."
   ]
  },
  {
   "cell_type": "code",
   "execution_count": 2,
   "id": "b33f61ae",
   "metadata": {},
   "outputs": [
    {
     "name": "stdout",
     "output_type": "stream",
     "text": [
      "['los', 'hombres', 'somos', 'buenos']\n"
     ]
    }
   ],
   "source": [
    "# Ejemplo de lista de palabras\n",
    "lista=['los', 'hombres', 'somos', 'buenos']\n",
    "print(lista)"
   ]
  },
  {
   "cell_type": "code",
   "execution_count": 4,
   "id": "e3299745",
   "metadata": {},
   "outputs": [
    {
     "name": "stdout",
     "output_type": "stream",
     "text": [
      "[20, 40, 30, 6, 8]\n"
     ]
    }
   ],
   "source": [
    "# Lista de numeros\n",
    "lista_de_numeros=[20,40,30,6,8]\n",
    "print(lista_de_numeros)"
   ]
  },
  {
   "cell_type": "code",
   "execution_count": 2,
   "id": "af30a58b",
   "metadata": {},
   "outputs": [
    {
     "name": "stdout",
     "output_type": "stream",
     "text": [
      "['La', 'programacion', 'se', 'aprende', 'poco', 'a', 'poco']\n"
     ]
    }
   ],
   "source": [
    "cadena= 'La programacion se aprende poco a poco'\n",
    "# convertimos a lista\n",
    "convirtiendo= cadena.split()\n",
    "print(convirtiendo)"
   ]
  },
  {
   "cell_type": "code",
   "execution_count": 3,
   "id": "4c88bdaa",
   "metadata": {},
   "outputs": [
    {
     "name": "stdout",
     "output_type": "stream",
     "text": [
      "20\n"
     ]
    }
   ],
   "source": [
    "lista_de_mas_numeros=[20,40,50,30]\n",
    "#Accediendo a la posicion de los elementos\n",
    "print(lista_de_mas_numeros[0])"
   ]
  },
  {
   "cell_type": "markdown",
   "id": "9e464e66",
   "metadata": {},
   "source": [
    "**Mutable:** Modificamos los elementos de una lista"
   ]
  },
  {
   "cell_type": "code",
   "execution_count": 5,
   "id": "ad191bf9",
   "metadata": {},
   "outputs": [
    {
     "name": "stdout",
     "output_type": "stream",
     "text": [
      "['noquia', 'samsung', 'lg', 'poco']\n",
      "['nokia', 'samsung', 'lg', 'poco']\n"
     ]
    }
   ],
   "source": [
    "celulares=['noquia', 'samsung', 'lg','poco']\n",
    "print(celulares)\n",
    "# cambiamos nombre de los celulares indicando posicion\n",
    "celulares[0]='nokia'\n",
    "print(celulares)\n"
   ]
  },
  {
   "cell_type": "markdown",
   "id": "0981f465",
   "metadata": {},
   "source": [
    "**Adicionamos elementos a una lista**"
   ]
  },
  {
   "cell_type": "code",
   "execution_count": 7,
   "id": "ed19756d",
   "metadata": {},
   "outputs": [
    {
     "name": "stdout",
     "output_type": "stream",
     "text": [
      "['nokia', 'samsung', 'lg', 'poco', 'xiaomi']\n"
     ]
    }
   ],
   "source": [
    "celulares=['nokia', 'samsung', 'lg','poco']\n",
    "# Añadimos una nueva cantidad \n",
    "celulares.append('xiaomi')\n",
    "print(celulares)"
   ]
  },
  {
   "cell_type": "code",
   "execution_count": 8,
   "id": "7592284d",
   "metadata": {},
   "outputs": [
    {
     "name": "stdout",
     "output_type": "stream",
     "text": [
      "['mercedes', 'toyota', 'honda', 'renault']\n"
     ]
    }
   ],
   "source": [
    "# juntando listas\n",
    "autos_1=['mercedes', 'toyota']\n",
    "autos_2=['honda', 'renault']\n",
    "autos=autos_1+autos_2\n",
    "print(autos)"
   ]
  },
  {
   "cell_type": "markdown",
   "id": "1e05116e",
   "metadata": {},
   "source": [
    "**Borrando elementos de una lista**"
   ]
  },
  {
   "cell_type": "code",
   "execution_count": 12,
   "id": "814e465e",
   "metadata": {},
   "outputs": [
    {
     "name": "stdout",
     "output_type": "stream",
     "text": [
      "['asus', 'toshiba', 'lenovo', 'dell']\n"
     ]
    }
   ],
   "source": [
    "laptops=['hp','asus','toshiba','lenovo','dell']\n",
    "\n",
    "# usando el comando del\n",
    "\n",
    "del laptops[0]\n",
    "print(laptops)"
   ]
  },
  {
   "cell_type": "code",
   "execution_count": 13,
   "id": "105a609b",
   "metadata": {},
   "outputs": [
    {
     "name": "stdout",
     "output_type": "stream",
     "text": [
      "['asus', 'toshiba', 'dell']\n"
     ]
    }
   ],
   "source": [
    "# usando el metodo pop\n",
    "\n",
    "laptops.pop(2)\n",
    "print(laptops)"
   ]
  },
  {
   "cell_type": "code",
   "execution_count": 14,
   "id": "0b6da018",
   "metadata": {},
   "outputs": [
    {
     "name": "stdout",
     "output_type": "stream",
     "text": [
      "['toshiba', 'dell']\n"
     ]
    }
   ],
   "source": [
    "# metodo remove\n",
    "laptops.remove('asus')\n",
    "print(laptops)"
   ]
  },
  {
   "cell_type": "markdown",
   "id": "76bc9fa9",
   "metadata": {},
   "source": [
    "**Ordenamos elementos de una lista**"
   ]
  },
  {
   "cell_type": "code",
   "execution_count": 1,
   "id": "a963c876",
   "metadata": {},
   "outputs": [
    {
     "name": "stdout",
     "output_type": "stream",
     "text": [
      "['bitel', 'claro', 'entel', 'movistar']\n"
     ]
    }
   ],
   "source": [
    "telefonia=['claro', 'movistar','entel','bitel']\n",
    "\n",
    "#ordenamos por orden alfabetico\n",
    "telefonia.sort()\n",
    "print(telefonia)"
   ]
  },
  {
   "cell_type": "code",
   "execution_count": 2,
   "id": "b1549d84",
   "metadata": {},
   "outputs": [
    {
     "name": "stdout",
     "output_type": "stream",
     "text": [
      "['movistar', 'entel', 'claro', 'bitel']\n"
     ]
    }
   ],
   "source": [
    "# ordenamos de forma inversa\n",
    "telefonia.reverse()\n",
    "print(telefonia)"
   ]
  },
  {
   "cell_type": "code",
   "execution_count": 5,
   "id": "e8c8e89e",
   "metadata": {},
   "outputs": [
    {
     "name": "stdout",
     "output_type": "stream",
     "text": [
      "[-5, 10, 50, 80, 100, 200, 250]\n"
     ]
    }
   ],
   "source": [
    "num=[200,-5,100,50,80,250,10]\n",
    "\n",
    "# ordenamos de menor a mayor\n",
    "num.sort()\n",
    "print(num)"
   ]
  },
  {
   "cell_type": "code",
   "execution_count": 6,
   "id": "1f6eb9f8",
   "metadata": {},
   "outputs": [
    {
     "name": "stdout",
     "output_type": "stream",
     "text": [
      "[-5, 10, 50, 80, 100, 200, 250]\n"
     ]
    }
   ],
   "source": [
    "# otra forma de ordenar\n",
    "print(sorted(num))"
   ]
  },
  {
   "cell_type": "markdown",
   "id": "a295bd0c",
   "metadata": {},
   "source": [
    "**Longitud de una lista**"
   ]
  },
  {
   "cell_type": "code",
   "execution_count": 9,
   "id": "21d057c8",
   "metadata": {},
   "outputs": [
    {
     "name": "stdout",
     "output_type": "stream",
     "text": [
      "4\n"
     ]
    }
   ],
   "source": [
    "frase=['vaca', 'toro', 'oveja', 'chancho']\n",
    "\n",
    "#cantidad de elementos en la lista\n",
    "print(len(frase))"
   ]
  },
  {
   "cell_type": "code",
   "execution_count": 10,
   "id": "ad8015e3",
   "metadata": {},
   "outputs": [
    {
     "name": "stdout",
     "output_type": "stream",
     "text": [
      "7\n"
     ]
    }
   ],
   "source": [
    "numeros=[30,20,10,100,-4,90,70]\n",
    "print(len(numeros))"
   ]
  },
  {
   "cell_type": "markdown",
   "id": "74ef4a2d",
   "metadata": {},
   "source": [
    "**Ejemplos**"
   ]
  },
  {
   "cell_type": "code",
   "execution_count": 11,
   "id": "47f48a60",
   "metadata": {},
   "outputs": [
    {
     "name": "stdout",
     "output_type": "stream",
     "text": [
      "[20, 30, 40, 50, 60, 70]\n"
     ]
    }
   ],
   "source": [
    "# operaciones entre listas\n",
    "lista_1=[20,30,40]\n",
    "lista_2=[50,60,70]\n",
    "print(lista_1+lista_2)"
   ]
  },
  {
   "cell_type": "code",
   "execution_count": 30,
   "id": "e4891d41",
   "metadata": {},
   "outputs": [
    {
     "name": "stdout",
     "output_type": "stream",
     "text": [
      "mi celular xiaomi tiene 2 chips\n"
     ]
    }
   ],
   "source": [
    "celular=['nokia', 'samsung','xiaomi', 'motorola']\n",
    "chips=[2,3,1]\n",
    "print('mi celular', celular[-2], 'tiene', chips[0], 'chips')"
   ]
  },
  {
   "cell_type": "code",
   "execution_count": 32,
   "id": "dab63165",
   "metadata": {},
   "outputs": [
    {
     "name": "stdout",
     "output_type": "stream",
     "text": [
      "mi celular motorola no tiene 3 chips\n"
     ]
    }
   ],
   "source": [
    "# otra forma\n",
    "print(f'mi celular {celular[-1]} no tiene {chips[-2]} chips')"
   ]
  },
  {
   "cell_type": "code",
   "execution_count": 18,
   "id": "1c4bcca3",
   "metadata": {},
   "outputs": [
    {
     "name": "stdout",
     "output_type": "stream",
     "text": [
      "7600\n"
     ]
    }
   ],
   "source": [
    "# Creamos una nueva lista\n",
    "lista_3=[200,300,500,7000,-400]\n",
    "# hallamos la suma\n",
    "print(sum(lista_3))"
   ]
  },
  {
   "cell_type": "code",
   "execution_count": 19,
   "id": "1d83f6e3",
   "metadata": {},
   "outputs": [
    {
     "name": "stdout",
     "output_type": "stream",
     "text": [
      "7000\n"
     ]
    }
   ],
   "source": [
    "# imprimimos el maximo\n",
    "print(max(lista_3))"
   ]
  },
  {
   "cell_type": "code",
   "execution_count": 20,
   "id": "8510b340",
   "metadata": {},
   "outputs": [
    {
     "name": "stdout",
     "output_type": "stream",
     "text": [
      "-400\n"
     ]
    }
   ],
   "source": [
    "# imprimimos el minimo\n",
    "print(min(lista_3))"
   ]
  },
  {
   "cell_type": "code",
   "execution_count": 21,
   "id": "313a064f",
   "metadata": {},
   "outputs": [
    {
     "name": "stdout",
     "output_type": "stream",
     "text": [
      "[0, 1, 2, 3, 4, 5, 6]\n"
     ]
    }
   ],
   "source": [
    "# creamos lista de 0 a 6\n",
    "lista_01=list(range(7))\n",
    "print(lista_01)"
   ]
  },
  {
   "cell_type": "code",
   "execution_count": 22,
   "id": "9bb8d6ab",
   "metadata": {},
   "outputs": [
    {
     "name": "stdout",
     "output_type": "stream",
     "text": [
      "[1, 2, 3, 4, 5, 6, 7, 8, 9]\n"
     ]
    }
   ],
   "source": [
    "# creamos lista del 1 al 9\n",
    "lista_02=list(range(1,10))\n",
    "print(lista_02)"
   ]
  },
  {
   "cell_type": "code",
   "execution_count": 24,
   "id": "e7f735f9",
   "metadata": {},
   "outputs": [
    {
     "name": "stdout",
     "output_type": "stream",
     "text": [
      "[-10, -9, -8, -7, -6, -5, -4, -3, -2, -1, 0, 1]\n"
     ]
    }
   ],
   "source": [
    "# creamos lista de -10 hasta 1\n",
    "lista_03=list(range(-10,2))\n",
    "print(lista_03)"
   ]
  },
  {
   "cell_type": "code",
   "execution_count": 25,
   "id": "ae80da41",
   "metadata": {},
   "outputs": [
    {
     "name": "stdout",
     "output_type": "stream",
     "text": [
      "[10, 20, 30, 40, 50, 60, 70, 80, 90]\n"
     ]
    }
   ],
   "source": [
    "# creamos lista del 10 al 100 sumando 10\n",
    "lista_04=list(range(10,100,10))\n",
    "print(lista_04)"
   ]
  },
  {
   "cell_type": "code",
   "execution_count": 27,
   "id": "a558399d",
   "metadata": {},
   "outputs": [
    {
     "name": "stdout",
     "output_type": "stream",
     "text": [
      "[]\n"
     ]
    }
   ],
   "source": [
    "# creamos lista del 200 a 100 sumando 10\n",
    "lista_05=list(range(200,100,10))\n",
    "print(lista_05)"
   ]
  },
  {
   "cell_type": "code",
   "execution_count": null,
   "id": "a50a28ed",
   "metadata": {},
   "outputs": [],
   "source": []
  }
 ],
 "metadata": {
  "kernelspec": {
   "display_name": "Python 3 (ipykernel)",
   "language": "python",
   "name": "python3"
  },
  "language_info": {
   "codemirror_mode": {
    "name": "ipython",
    "version": 3
   },
   "file_extension": ".py",
   "mimetype": "text/x-python",
   "name": "python",
   "nbconvert_exporter": "python",
   "pygments_lexer": "ipython3",
   "version": "3.9.16"
  }
 },
 "nbformat": 4,
 "nbformat_minor": 5
}
