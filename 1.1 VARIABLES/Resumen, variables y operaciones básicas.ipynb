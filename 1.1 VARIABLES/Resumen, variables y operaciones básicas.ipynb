{
 "cells": [
  {
   "cell_type": "markdown",
   "id": "90d2ae8e",
   "metadata": {},
   "source": [
    "### Introducción"
   ]
  },
  {
   "cell_type": "markdown",
   "id": "9ae73209",
   "metadata": {},
   "source": [
    "**PYTHON:** Es un lenguaje de programación utilizado generalmente en aplicaciones web, desarrollo de software, ciencia de datos y machine learning preferido por su eficiencia y su facilidad de aprendizaje."
   ]
  },
  {
   "cell_type": "markdown",
   "id": "a93095d8",
   "metadata": {},
   "source": [
    "**Beneficios:**\n",
    "- Facil de comprender debido a su sintaxis básica.\n",
    "- Reduce la cantidad de lineas de código en comparacion a otros lenguajes.\n",
    "- Es compatible con los diferentes sistemas operativos.\n",
    "- Cuenta con una gran biblioteca estandar que ayuda a los programadores."
   ]
  },
  {
   "cell_type": "markdown",
   "id": "67939ddf",
   "metadata": {},
   "source": [
    "**Características**\n",
    "- Lenguaje interpretado\n",
    "- Lenguaje sencillo de utilizar\n",
    "- Lenguaje tipeado dinámicamente\n",
    "- Lenguaje de alto nivel\n"
   ]
  },
  {
   "cell_type": "markdown",
   "id": "5bad349b",
   "metadata": {},
   "source": [
    "**Bibliotecas:**\n",
    "- Matplotlib\n",
    "- Pandas\n",
    "- Numpy\n",
    "- Requests\n",
    "- Opencv-python\n",
    "- Keras"
   ]
  },
  {
   "cell_type": "markdown",
   "id": "09d883cc",
   "metadata": {},
   "source": [
    "**Marcos:**\n",
    "- Django\n",
    "- Flask\n",
    "- TuboGears\n",
    "- Apache MXnet\n",
    "- Pytorch"
   ]
  },
  {
   "cell_type": "markdown",
   "id": "e65a67e8",
   "metadata": {},
   "source": [
    "### Variables y tipos de datos"
   ]
  },
  {
   "cell_type": "markdown",
   "id": "bc7a3dc7",
   "metadata": {},
   "source": [
    "**Variable:** Se utilizan para representar datos de distintos tipos, numeros, letras, string, valores logicos, etc."
   ]
  },
  {
   "cell_type": "code",
   "execution_count": 1,
   "id": "64ae04b2",
   "metadata": {},
   "outputs": [],
   "source": [
    "x=5  # número entero  \n",
    "y=6.7    # número flotante\n",
    "j='q'     # caracter string\n",
    "l='hola mundo'  # cadena de caracteres string\n",
    "m=True  # valores lógicos"
   ]
  },
  {
   "cell_type": "code",
   "execution_count": 2,
   "id": "5d87cbb9",
   "metadata": {},
   "outputs": [
    {
     "data": {
      "text/plain": [
       "int"
      ]
     },
     "execution_count": 2,
     "metadata": {},
     "output_type": "execute_result"
    }
   ],
   "source": [
    "type(x)"
   ]
  },
  {
   "cell_type": "code",
   "execution_count": 3,
   "id": "284a6508",
   "metadata": {},
   "outputs": [
    {
     "data": {
      "text/plain": [
       "float"
      ]
     },
     "execution_count": 3,
     "metadata": {},
     "output_type": "execute_result"
    }
   ],
   "source": [
    "type(y)"
   ]
  },
  {
   "cell_type": "code",
   "execution_count": 4,
   "id": "9a9f7c32",
   "metadata": {},
   "outputs": [
    {
     "data": {
      "text/plain": [
       "str"
      ]
     },
     "execution_count": 4,
     "metadata": {},
     "output_type": "execute_result"
    }
   ],
   "source": [
    "type(j)"
   ]
  },
  {
   "cell_type": "code",
   "execution_count": 5,
   "id": "44162e16",
   "metadata": {},
   "outputs": [
    {
     "data": {
      "text/plain": [
       "str"
      ]
     },
     "execution_count": 5,
     "metadata": {},
     "output_type": "execute_result"
    }
   ],
   "source": [
    "type(l)"
   ]
  },
  {
   "cell_type": "code",
   "execution_count": 6,
   "id": "c9d52e6f",
   "metadata": {},
   "outputs": [
    {
     "data": {
      "text/plain": [
       "bool"
      ]
     },
     "execution_count": 6,
     "metadata": {},
     "output_type": "execute_result"
    }
   ],
   "source": [
    "type(m)"
   ]
  },
  {
   "cell_type": "code",
   "execution_count": 7,
   "id": "d0a04e7e",
   "metadata": {},
   "outputs": [
    {
     "name": "stdout",
     "output_type": "stream",
     "text": [
      "<class 'bool'>\n"
     ]
    }
   ],
   "source": [
    "print(type(m))"
   ]
  },
  {
   "cell_type": "markdown",
   "id": "2ff0e24d",
   "metadata": {},
   "source": [
    "**Operadores aritmeticos:**"
   ]
  },
  {
   "cell_type": "code",
   "execution_count": 8,
   "id": "382eaa28",
   "metadata": {},
   "outputs": [
    {
     "data": {
      "text/plain": [
       "2.25"
      ]
     },
     "execution_count": 8,
     "metadata": {},
     "output_type": "execute_result"
    }
   ],
   "source": [
    "9/4  #division"
   ]
  },
  {
   "cell_type": "code",
   "execution_count": 9,
   "id": "6e149570",
   "metadata": {},
   "outputs": [
    {
     "data": {
      "text/plain": [
       "2"
      ]
     },
     "execution_count": 9,
     "metadata": {},
     "output_type": "execute_result"
    }
   ],
   "source": [
    "9//4  #division entera"
   ]
  },
  {
   "cell_type": "code",
   "execution_count": 10,
   "id": "e3f442e0",
   "metadata": {},
   "outputs": [
    {
     "data": {
      "text/plain": [
       "0"
      ]
     },
     "execution_count": 10,
     "metadata": {},
     "output_type": "execute_result"
    }
   ],
   "source": [
    "6%3  #residuo"
   ]
  },
  {
   "cell_type": "code",
   "execution_count": 11,
   "id": "54bdf08d",
   "metadata": {},
   "outputs": [
    {
     "name": "stdout",
     "output_type": "stream",
     "text": [
      "1.3333333333333333\n",
      "1\n",
      "5\n"
     ]
    }
   ],
   "source": [
    "a=20\n",
    "b=15\n",
    "print(a/b)\n",
    "print(a//b)\n",
    "print(a%b)"
   ]
  },
  {
   "cell_type": "markdown",
   "id": "af42f642",
   "metadata": {},
   "source": [
    "**Orden de operadores:** Parentesis, Exponentes, Multiplicacion/Division, Adicion/Sustraccion"
   ]
  },
  {
   "cell_type": "code",
   "execution_count": 1,
   "id": "4cf9bf32",
   "metadata": {},
   "outputs": [
    {
     "data": {
      "text/plain": [
       "8.0"
      ]
     },
     "execution_count": 1,
     "metadata": {},
     "output_type": "execute_result"
    }
   ],
   "source": [
    "(3+5)/2+2**2"
   ]
  },
  {
   "cell_type": "code",
   "execution_count": 4,
   "id": "d3027a29",
   "metadata": {},
   "outputs": [
    {
     "data": {
      "text/plain": [
       "6.6"
      ]
     },
     "execution_count": 4,
     "metadata": {},
     "output_type": "execute_result"
    }
   ],
   "source": [
    "4**2*3/5+2-5"
   ]
  },
  {
   "cell_type": "markdown",
   "id": "2eb50dcb",
   "metadata": {},
   "source": [
    "**Relacionales**"
   ]
  },
  {
   "cell_type": "code",
   "execution_count": 5,
   "id": "e8ba165f",
   "metadata": {},
   "outputs": [
    {
     "data": {
      "text/plain": [
       "True"
      ]
     },
     "execution_count": 5,
     "metadata": {},
     "output_type": "execute_result"
    }
   ],
   "source": [
    "50>30"
   ]
  },
  {
   "cell_type": "code",
   "execution_count": 6,
   "id": "df4711c5",
   "metadata": {},
   "outputs": [
    {
     "data": {
      "text/plain": [
       "False"
      ]
     },
     "execution_count": 6,
     "metadata": {},
     "output_type": "execute_result"
    }
   ],
   "source": [
    "40<30"
   ]
  },
  {
   "cell_type": "code",
   "execution_count": 8,
   "id": "89aff820",
   "metadata": {},
   "outputs": [
    {
     "name": "stdout",
     "output_type": "stream",
     "text": [
      "False\n"
     ]
    }
   ],
   "source": [
    "x=20\n",
    "y=100\n",
    "print(x==y)"
   ]
  },
  {
   "cell_type": "markdown",
   "id": "02799e3c",
   "metadata": {},
   "source": [
    "**Valores lógicos**"
   ]
  },
  {
   "cell_type": "code",
   "execution_count": 9,
   "id": "60a0c8a2",
   "metadata": {},
   "outputs": [
    {
     "data": {
      "text/plain": [
       "False"
      ]
     },
     "execution_count": 9,
     "metadata": {},
     "output_type": "execute_result"
    }
   ],
   "source": [
    "A=True\n",
    "B=False\n",
    "A and B"
   ]
  },
  {
   "cell_type": "markdown",
   "id": "b05050f6",
   "metadata": {},
   "source": [
    "**Ejemplos**"
   ]
  },
  {
   "cell_type": "code",
   "execution_count": 1,
   "id": "878eb892",
   "metadata": {},
   "outputs": [],
   "source": [
    "x='bienvenidos al curso'\n",
    "y='de python básico'"
   ]
  },
  {
   "cell_type": "code",
   "execution_count": 7,
   "id": "1f47ad8d",
   "metadata": {},
   "outputs": [
    {
     "name": "stdout",
     "output_type": "stream",
     "text": [
      "\n",
      " bienvenidos al curso\n",
      "\n",
      " BIENVENIDOS AL CURSO\n",
      "\n",
      " De Python Básico\n"
     ]
    }
   ],
   "source": [
    "ordenandox=x.lower()  #minusculas\n",
    "ordenando_x=x.upper()  #mayusculas\n",
    "ordenandoy=y.title()  #titulo\n",
    "print('\\n',ordenandox)\n",
    "print('\\n', ordenando_x)\n",
    "print('\\n', ordenandoy)"
   ]
  },
  {
   "cell_type": "code",
   "execution_count": 9,
   "id": "3b8bc917",
   "metadata": {},
   "outputs": [
    {
     "name": "stdout",
     "output_type": "stream",
     "text": [
      "\t bienvenidos al curso \t BIENVENIDOS AL CURSO \t De Python Básico\n"
     ]
    }
   ],
   "source": [
    "# De forma tabulada\n",
    "print('\\t', ordenandox, '\\t', ordenando_x, '\\t', ordenandoy)"
   ]
  },
  {
   "cell_type": "code",
   "execution_count": 16,
   "id": "3b1085b9",
   "metadata": {},
   "outputs": [
    {
     "name": "stdout",
     "output_type": "stream",
     "text": [
      "mi nombres es: huber y tengo 19 años\n"
     ]
    }
   ],
   "source": [
    "#impresion por pantalla y mescla con variables\n",
    "nombre='huber'\n",
    "edad=19\n",
    "print('mi nombres es:', nombre, 'y tengo', edad, 'años')"
   ]
  },
  {
   "cell_type": "code",
   "execution_count": 15,
   "id": "cea223b5",
   "metadata": {},
   "outputs": [
    {
     "name": "stdout",
     "output_type": "stream",
     "text": [
      "el valor de m es:15.831134564643799 y el valor de n es:1600\n"
     ]
    }
   ],
   "source": [
    "# imprimiendo una variable\n",
    "m=30*2/3.79\n",
    "n=40*40\n",
    "\n",
    "z='el valor de m es:' +repr(m)+ ' y el valor de n es:'+repr(n)\n",
    "print(z)"
   ]
  },
  {
   "cell_type": "code",
   "execution_count": null,
   "id": "d6799c2f",
   "metadata": {},
   "outputs": [],
   "source": []
  },
  {
   "cell_type": "code",
   "execution_count": null,
   "id": "2efa99c2",
   "metadata": {},
   "outputs": [],
   "source": []
  }
 ],
 "metadata": {
  "kernelspec": {
   "display_name": "Python 3 (ipykernel)",
   "language": "python",
   "name": "python3"
  },
  "language_info": {
   "codemirror_mode": {
    "name": "ipython",
    "version": 3
   },
   "file_extension": ".py",
   "mimetype": "text/x-python",
   "name": "python",
   "nbconvert_exporter": "python",
   "pygments_lexer": "ipython3",
   "version": "3.9.16"
  }
 },
 "nbformat": 4,
 "nbformat_minor": 5
}
